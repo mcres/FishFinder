{
 "cells": [
  {
   "cell_type": "code",
   "execution_count": 1,
   "metadata": {},
   "outputs": [
    {
     "name": "stderr",
     "output_type": "stream",
     "text": [
      "Using TensorFlow backend.\n"
     ]
    }
   ],
   "source": [
    "import fishfinder \n",
    "import pandas as pd"
   ]
  },
  {
   "cell_type": "markdown",
   "metadata": {},
   "source": [
    "# Create FishFinder object"
   ]
  },
  {
   "cell_type": "code",
   "execution_count": 2,
   "metadata": {},
   "outputs": [],
   "source": [
    "ff = fishfinder.FishFinder()"
   ]
  },
  {
   "cell_type": "markdown",
   "metadata": {},
   "source": [
    "# Generate datasets"
   ]
  },
  {
   "cell_type": "code",
   "execution_count": 3,
   "metadata": {},
   "outputs": [
    {
     "name": "stdout",
     "output_type": "stream",
     "text": [
      "Generating new data!\n",
      "    ID  minute  hour   day  month    year  temperature    lat    lon  \\\n",
      "0  1.0    47.0  23.0  29.0    4.0  2015.0         35.0   61.0  329.0   \n",
      "1  1.0    47.0   4.0   9.0    1.0  2016.0          1.0  230.0  319.0   \n",
      "2  1.0    21.0   2.0  29.0   11.0  2014.0         22.0   72.0  142.0   \n",
      "3  1.0    47.0   1.0  16.0    8.0  2015.0          9.0    0.0   16.0   \n",
      "4  2.0    53.0   2.0  20.0    4.0  2016.0          6.0  287.0  246.0   \n",
      "\n",
      "   velocity  fish  \n",
      "0       3.0   0.0  \n",
      "1       7.0   1.0  \n",
      "2       6.0   1.0  \n",
      "3       3.0   0.0  \n",
      "4       5.0   1.0  \n"
     ]
    }
   ],
   "source": [
    "ff.generate_datasets(save_to_csv=False)\n",
    "df = ff.get_dataframe()\n",
    "print(df.head())"
   ]
  },
  {
   "cell_type": "markdown",
   "metadata": {},
   "source": [
    "# Training model"
   ]
  },
  {
   "cell_type": "code",
   "execution_count": 4,
   "metadata": {},
   "outputs": [
    {
     "name": "stdout",
     "output_type": "stream",
     "text": [
      "Loading datasets from files\n",
      "_________________________________________________________________\n",
      "Layer (type)                 Output Shape              Param #   \n",
      "=================================================================\n",
      "input_1 (InputLayer)         (None, 10)                0         \n",
      "_________________________________________________________________\n",
      "dense_1 (Dense)              (None, 20)                220       \n",
      "_________________________________________________________________\n",
      "activation_1 (Activation)    (None, 20)                0         \n",
      "_________________________________________________________________\n",
      "dense_2 (Dense)              (None, 15)                315       \n",
      "_________________________________________________________________\n",
      "activation_2 (Activation)    (None, 15)                0         \n",
      "_________________________________________________________________\n",
      "dense_3 (Dense)              (None, 6)                 96        \n",
      "_________________________________________________________________\n",
      "activation_3 (Activation)    (None, 6)                 0         \n",
      "_________________________________________________________________\n",
      "dense_4 (Dense)              (None, 3)                 21        \n",
      "_________________________________________________________________\n",
      "activation_4 (Activation)    (None, 3)                 0         \n",
      "_________________________________________________________________\n",
      "dense_5 (Dense)              (None, 1)                 4         \n",
      "_________________________________________________________________\n",
      "activation_5 (Activation)    (None, 1)                 0         \n",
      "=================================================================\n",
      "Total params: 656\n",
      "Trainable params: 656\n",
      "Non-trainable params: 0\n",
      "_________________________________________________________________\n",
      "[[  7.00000000e+00   5.70000000e+01   1.60000000e+01   2.70000000e+01\n",
      "    6.00000000e+00   2.01500000e+03   1.50000000e+01   4.48000000e+02\n",
      "    6.20000000e+01   5.00000000e+00]\n",
      " [  5.00000000e+00   9.00000000e+00   6.00000000e+00   4.00000000e+00\n",
      "    8.00000000e+00   2.01400000e+03   1.10000000e+01   4.75000000e+02\n",
      "    4.33000000e+02   2.00000000e+00]\n",
      " [  3.00000000e+00   5.70000000e+01   1.40000000e+01   1.00000000e+01\n",
      "    5.00000000e+00   2.01100000e+03   9.00000000e+00   2.17000000e+02\n",
      "    3.22000000e+02   2.00000000e+00]\n",
      " [  1.00000000e+01   3.40000000e+01   2.40000000e+01   2.90000000e+01\n",
      "    1.20000000e+01   2.01700000e+03   2.00000000e+01   1.18000000e+02\n",
      "    4.99000000e+02   2.00000000e+00]\n",
      " [  7.00000000e+00   4.40000000e+01   9.00000000e+00   2.00000000e+01\n",
      "    5.00000000e+00   2.01300000e+03   1.20000000e+01   3.66000000e+02\n",
      "    2.60000000e+01   4.00000000e+00]\n",
      " [  1.00000000e+00   4.70000000e+01   1.00000000e+00   1.60000000e+01\n",
      "    8.00000000e+00   2.01500000e+03   9.00000000e+00   0.00000000e+00\n",
      "    1.60000000e+01   3.00000000e+00]\n",
      " [  4.00000000e+00   4.70000000e+01   1.30000000e+01   2.90000000e+01\n",
      "    6.00000000e+00   2.01500000e+03   1.90000000e+01   4.46000000e+02\n",
      "    4.70000000e+02   7.00000000e+00]\n",
      " [  8.00000000e+00   1.00000000e+01   1.50000000e+01   2.30000000e+01\n",
      "    1.10000000e+01   2.01600000e+03   1.40000000e+01   6.00000000e+01\n",
      "    3.01000000e+02   7.00000000e+00]\n",
      " [  6.00000000e+00   5.50000000e+01   2.10000000e+01   1.00000000e+01\n",
      "    8.00000000e+00   2.01100000e+03   2.00000000e+00   3.01000000e+02\n",
      "    2.96000000e+02   3.00000000e+00]\n",
      " [  5.00000000e+00   4.00000000e+00   2.00000000e+01   2.00000000e+01\n",
      "    3.00000000e+00   2.01900000e+03   3.90000000e+01   1.09000000e+02\n",
      "    7.30000000e+01   3.00000000e+00]\n",
      " [  4.00000000e+00   5.00000000e+01   1.60000000e+01   2.40000000e+01\n",
      "    1.20000000e+01   2.01200000e+03   1.70000000e+01   4.72000000e+02\n",
      "    9.10000000e+01   5.00000000e+00]\n",
      " [  9.00000000e+00   1.60000000e+01   2.20000000e+01   2.20000000e+01\n",
      "    3.00000000e+00   2.01000000e+03   1.60000000e+01   9.00000000e+00\n",
      "    1.71000000e+02   1.00000000e+01]\n",
      " [  2.00000000e+00   3.80000000e+01   3.00000000e+00   2.20000000e+01\n",
      "    7.00000000e+00   2.01600000e+03   6.00000000e+00   2.48000000e+02\n",
      "    4.18000000e+02   3.00000000e+00]\n",
      " [  2.00000000e+00   5.30000000e+01   2.00000000e+00   2.00000000e+01\n",
      "    4.00000000e+00   2.01600000e+03   6.00000000e+00   2.87000000e+02\n",
      "    2.46000000e+02   5.00000000e+00]\n",
      " [  3.00000000e+00   4.00000000e+00   2.00000000e+01   2.00000000e+01\n",
      "    3.00000000e+00   2.01900000e+03   3.00000000e+01   3.45000000e+02\n",
      "    3.27000000e+02   1.00000000e+00]\n",
      " [  7.00000000e+00   4.00000000e+00   2.00000000e+01   2.00000000e+01\n",
      "    3.00000000e+00   2.01900000e+03   3.40000000e+01   4.39000000e+02\n",
      "    4.00000000e+02   1.00000000e+00]\n",
      " [  1.00000000e+00   2.10000000e+01   2.00000000e+00   2.90000000e+01\n",
      "    1.10000000e+01   2.01400000e+03   2.20000000e+01   7.20000000e+01\n",
      "    1.42000000e+02   6.00000000e+00]\n",
      " [  1.00000000e+00   4.70000000e+01   2.30000000e+01   2.90000000e+01\n",
      "    4.00000000e+00   2.01500000e+03   3.50000000e+01   6.10000000e+01\n",
      "    3.29000000e+02   3.00000000e+00]\n",
      " [  6.00000000e+00   4.00000000e+00   2.00000000e+01   2.00000000e+01\n",
      "    3.00000000e+00   2.01900000e+03   2.20000000e+01   1.84000000e+02\n",
      "    8.80000000e+01   9.00000000e+00]\n",
      " [  8.00000000e+00   5.90000000e+01   3.00000000e+00   3.00000000e+01\n",
      "    6.00000000e+00   2.01500000e+03   3.20000000e+01   6.40000000e+01\n",
      "    3.42000000e+02   9.00000000e+00]\n",
      " [  2.00000000e+00   1.20000000e+01   8.00000000e+00   4.00000000e+00\n",
      "    7.00000000e+00   2.01500000e+03   1.40000000e+01   7.10000000e+01\n",
      "    1.27000000e+02   4.00000000e+00]\n",
      " [  4.00000000e+00   4.00000000e+00   2.00000000e+01   2.00000000e+01\n",
      "    3.00000000e+00   2.01900000e+03   3.90000000e+01   3.11000000e+02\n",
      "    4.82000000e+02   5.00000000e+00]\n",
      " [  3.00000000e+00   2.50000000e+01   1.40000000e+01   2.50000000e+01\n",
      "    1.00000000e+01   2.01600000e+03   1.50000000e+01   2.25000000e+02\n",
      "    2.12000000e+02   1.00000000e+00]\n",
      " [  8.00000000e+00   5.50000000e+01   2.00000000e+00   2.10000000e+01\n",
      "    3.00000000e+00   2.01100000e+03   1.20000000e+01   1.30000000e+02\n",
      "    3.76000000e+02   4.00000000e+00]\n",
      " [  1.00000000e+01   4.80000000e+01   1.60000000e+01   8.00000000e+00\n",
      "    8.00000000e+00   2.01400000e+03   3.80000000e+01   2.50000000e+01\n",
      "    1.23000000e+02   7.00000000e+00]\n",
      " [  1.00000000e+01   3.10000000e+01   2.10000000e+01   1.00000000e+00\n",
      "    3.00000000e+00   2.01500000e+03   2.70000000e+01   3.29000000e+02\n",
      "    3.60000000e+02   3.00000000e+00]\n",
      " [  3.00000000e+00   1.70000000e+01   1.40000000e+01   2.50000000e+01\n",
      "    1.00000000e+01   2.01500000e+03   3.20000000e+01   3.09000000e+02\n",
      "    1.12000000e+02   8.00000000e+00]\n",
      " [  2.00000000e+00   4.20000000e+01   2.00000000e+01   2.80000000e+01\n",
      "    1.00000000e+01   2.01300000e+03   2.70000000e+01   3.57000000e+02\n",
      "    4.59000000e+02   3.00000000e+00]\n",
      " [  8.00000000e+00   4.00000000e+00   2.00000000e+01   2.00000000e+01\n",
      "    3.00000000e+00   2.01900000e+03   2.70000000e+01   3.52000000e+02\n",
      "    3.39000000e+02   1.00000000e+00]\n",
      " [  7.00000000e+00   3.30000000e+01   7.00000000e+00   3.00000000e+01\n",
      "    1.20000000e+01   2.01500000e+03   4.00000000e+01   4.66000000e+02\n",
      "    2.89000000e+02   9.00000000e+00]\n",
      " [  7.00000000e+00   4.20000000e+01   2.00000000e+00   2.20000000e+01\n",
      "    7.00000000e+00   2.01400000e+03   4.00000000e+01   1.42000000e+02\n",
      "    2.87000000e+02   1.00000000e+00]\n",
      " [  5.00000000e+00   1.80000000e+01   9.00000000e+00   2.20000000e+01\n",
      "    4.00000000e+00   2.01600000e+03   2.20000000e+01   4.66000000e+02\n",
      "    3.54000000e+02   2.00000000e+00]\n",
      " [  5.00000000e+00   3.00000000e+00   1.00000000e+01   1.10000000e+01\n",
      "    1.00000000e+01   2.01600000e+03   3.80000000e+01   7.00000000e+01\n",
      "    4.12000000e+02   9.00000000e+00]\n",
      " [  1.00000000e+00   4.00000000e+00   2.00000000e+01   2.00000000e+01\n",
      "    3.00000000e+00   2.01900000e+03   3.60000000e+01   2.22000000e+02\n",
      "    2.59000000e+02   1.00000000e+00]\n",
      " [  5.00000000e+00   3.20000000e+01   1.00000000e+00   1.50000000e+01\n",
      "    4.00000000e+00   2.01000000e+03   1.80000000e+01   2.59000000e+02\n",
      "    3.26000000e+02   1.00000000e+01]\n",
      " [  9.00000000e+00   5.90000000e+01   2.00000000e+01   1.70000000e+01\n",
      "    6.00000000e+00   2.01300000e+03   3.50000000e+01   2.40000000e+01\n",
      "    4.21000000e+02   0.00000000e+00]\n",
      " [  6.00000000e+00   1.00000000e+01   1.50000000e+01   2.20000000e+01\n",
      "    3.00000000e+00   2.01400000e+03   2.80000000e+01   3.74000000e+02\n",
      "    3.13000000e+02   7.00000000e+00]\n",
      " [  1.00000000e+01   4.00000000e+00   2.00000000e+01   2.00000000e+01\n",
      "    3.00000000e+00   2.01900000e+03   5.00000000e+00   3.07000000e+02\n",
      "    3.70000000e+02   4.00000000e+00]\n",
      " [  6.00000000e+00   4.30000000e+01   2.20000000e+01   5.00000000e+00\n",
      "    9.00000000e+00   2.01000000e+03   1.50000000e+01   1.63000000e+02\n",
      "    5.00000000e+02   1.00000000e+00]\n",
      " [  3.00000000e+00   2.90000000e+01   2.10000000e+01   2.20000000e+01\n",
      "    5.00000000e+00   2.01000000e+03   1.90000000e+01   7.70000000e+01\n",
      "    4.38000000e+02   1.00000000e+00]] [[ 1.]\n",
      " [ 1.]\n",
      " [ 0.]\n",
      " [ 0.]\n",
      " [ 1.]\n",
      " [ 0.]\n",
      " [ 1.]\n",
      " [ 1.]\n",
      " [ 0.]\n",
      " [ 0.]\n",
      " [ 1.]\n",
      " [ 0.]\n",
      " [ 1.]\n",
      " [ 1.]\n",
      " [ 1.]\n",
      " [ 1.]\n",
      " [ 1.]\n",
      " [ 0.]\n",
      " [ 0.]\n",
      " [ 1.]\n",
      " [ 1.]\n",
      " [ 1.]\n",
      " [ 1.]\n",
      " [ 0.]\n",
      " [ 1.]\n",
      " [ 0.]\n",
      " [ 1.]\n",
      " [ 0.]\n",
      " [ 0.]\n",
      " [ 0.]\n",
      " [ 1.]\n",
      " [ 0.]\n",
      " [ 0.]\n",
      " [ 0.]\n",
      " [ 0.]\n",
      " [ 1.]\n",
      " [ 1.]\n",
      " [ 1.]\n",
      " [ 1.]\n",
      " [ 1.]]\n"
     ]
    },
    {
     "name": "stdout",
     "output_type": "stream",
     "text": [
      "Epoch 1/10\n",
      "40/40 [==============================] - 1s 26ms/step - loss: 0.3415 - acc: 0.4750\n",
      "Epoch 2/10\n",
      "40/40 [==============================] - 0s 205us/step - loss: 0.3666 - acc: 0.5750\n",
      "Epoch 3/10\n",
      "40/40 [==============================] - 0s 261us/step - loss: 0.3147 - acc: 0.5750\n",
      "Epoch 4/10\n",
      "40/40 [==============================] - 0s 165us/step - loss: 0.3542 - acc: 0.5750\n",
      "Epoch 5/10\n",
      "40/40 [==============================] - 0s 154us/step - loss: 0.3116 - acc: 0.5750\n",
      "Epoch 6/10\n",
      "40/40 [==============================] - 0s 162us/step - loss: 0.2893 - acc: 0.5750\n",
      "Epoch 7/10\n",
      "40/40 [==============================] - 0s 155us/step - loss: 0.2862 - acc: 0.5750\n",
      "Epoch 8/10\n",
      "40/40 [==============================] - 0s 280us/step - loss: 0.2833 - acc: 0.5750\n",
      "Epoch 9/10\n",
      "40/40 [==============================] - 0s 205us/step - loss: 0.2702 - acc: 0.5750\n",
      "Epoch 10/10\n",
      "40/40 [==============================] - 0s 188us/step - loss: 0.2699 - acc: 0.5750\n",
      "model trained!\n",
      "10/10 [==============================] - 0s 3ms/step\n",
      "Test accuracy =  0.5\n",
      "Test loss =  0.454985141754\n",
      "model weights saved to /model_weights.h5py\n"
     ]
    }
   ],
   "source": [
    "ff.train()"
   ]
  },
  {
   "cell_type": "markdown",
   "metadata": {},
   "source": [
    "# Create path and showing results"
   ]
  },
  {
   "cell_type": "markdown",
   "metadata": {},
   "source": [
    "Let's say we want to go from (0,0) to (20,20). We change conf.json accordingly before running the following instruction."
   ]
  },
  {
   "cell_type": "code",
   "execution_count": 5,
   "metadata": {},
   "outputs": [
    {
     "data": {
      "image/png": "[encoded data removed]",
      "text/plain": [
       "<Figure size 432x288 with 1 Axes>"
      ]
     },
     "metadata": {},
     "output_type": "display_data"
    }
   ],
   "source": [
    "ff.generate_map()"
   ]
  },
  {
   "cell_type": "markdown",
   "metadata": {},
   "source": [
    "# Accessing points in the path"
   ]
  },
  {
   "cell_type": "markdown",
   "metadata": {},
   "source": [
    "<h2>Straight path</h2>"
   ]
  },
  {
   "cell_type": "code",
   "execution_count": 6,
   "metadata": {},
   "outputs": [
    {
     "name": "stdout",
     "output_type": "stream",
     "text": [
      "            X          Y\n",
      "0    0.000000   0.000000\n",
      "1    0.707107   0.707107\n",
      "2    1.414214   1.414214\n",
      "3    2.121320   2.121320\n",
      "4    2.828427   2.828427\n",
      "5    3.535534   3.535534\n",
      "6    4.242641   4.242641\n",
      "7    4.949747   4.949747\n",
      "8    5.656854   5.656854\n",
      "9    6.363961   6.363961\n",
      "10   7.071068   7.071068\n",
      "11   7.778175   7.778175\n",
      "12   8.485281   8.485281\n",
      "13   9.192388   9.192388\n",
      "14   9.899495   9.899495\n",
      "15  10.606602  10.606602\n",
      "16  11.313708  11.313708\n",
      "17  12.020815  12.020815\n",
      "18  12.727922  12.727922\n",
      "19  13.435029  13.435029\n",
      "20  14.142136  14.142136\n",
      "21  14.849242  14.849242\n",
      "22  15.556349  15.556349\n",
      "23  16.263456  16.263456\n",
      "24  16.970563  16.970563\n",
      "25  17.677670  17.677670\n",
      "26  18.384776  18.384776\n",
      "27  19.091883  19.091883\n",
      "28  19.798990  19.798990\n",
      "29  20.000000  20.000000\n"
     ]
    }
   ],
   "source": [
    "x_straight, y_straight = ff.get_straight_path()\n",
    "df_straight = pd.DataFrame()\n",
    "df_straight.insert(0, 'X', x_straight)\n",
    "df_straight.insert(1, 'Y', y_straight)\n",
    "print(df_straight)"
   ]
  },
  {
   "cell_type": "markdown",
   "metadata": {},
   "source": [
    "<h2>First path</h2>"
   ]
  },
  {
   "cell_type": "code",
   "execution_count": 7,
   "metadata": {},
   "outputs": [
    {
     "name": "stdout",
     "output_type": "stream",
     "text": [
      "              X         Y\n",
      "0  0.000000e+00  0.000000\n",
      "1 -1.110223e-16  1.414214\n",
      "2  1.414214e+00  1.414214\n",
      "3  2.121320e+00  2.121320\n",
      "4  2.828427e+00  2.828427\n"
     ]
    }
   ],
   "source": [
    "x_first, y_first = ff.get_first_path()\n",
    "df_first = pd.DataFrame()\n",
    "df_first.insert(0, 'X', x_first)\n",
    "df_first.insert(1, 'Y', y_first)\n",
    "print(df_first.head())"
   ]
  },
  {
   "cell_type": "markdown",
   "metadata": {},
   "source": [
    "<h2>Filtered path</h2>"
   ]
  },
  {
   "cell_type": "code",
   "execution_count": 8,
   "metadata": {},
   "outputs": [
    {
     "name": "stdout",
     "output_type": "stream",
     "text": [
      "          X         Y\n",
      "0  0.000000  0.000000\n",
      "1  2.121320  2.121320\n",
      "2  4.949747  3.535534\n",
      "3  5.656854  7.071068\n",
      "4  8.485281  8.485281\n"
     ]
    }
   ],
   "source": [
    "x_filtered, y_filtered = ff.get_filtered_path()\n",
    "df_filtered = pd.DataFrame()\n",
    "df_filtered.insert(0, 'X', x_filtered)\n",
    "df_filtered.insert(1, 'Y', y_filtered)\n",
    "print(df_filtered.head())"
   ]
  },
  {
   "cell_type": "markdown",
   "metadata": {},
   "source": [
    "<h2>Grid points</h2>"
   ]
  },
  {
   "cell_type": "code",
   "execution_count": 9,
   "metadata": {},
   "outputs": [
    {
     "name": "stdout",
     "output_type": "stream",
     "text": [
      "          X         Y\n",
      "0  0.000000  0.000000\n",
      "1  0.707107  0.707107\n",
      "2  1.414214  1.414214\n",
      "3  2.121320  2.121320\n",
      "4  2.828427  2.828427\n"
     ]
    }
   ],
   "source": [
    "x_grid_points, y_grid_points = ff.get_grid_points()\n",
    "df_grid_points = pd.DataFrame()\n",
    "df_grid_points.insert(0, 'X', x_grid_points)\n",
    "df_grid_points.insert(1, 'Y', y_grid_points)\n",
    "print(df_grid_points.head())"
   ]
  },
  {
   "cell_type": "code",
   "execution_count": null,
   "metadata": {},
   "outputs": [],
   "source": []
  }
 ],
 "metadata": {
  "kernelspec": {
   "display_name": "Python 3",
   "language": "python",
   "name": "python3"
  },
  "language_info": {
   "codemirror_mode": {
    "name": "ipython",
    "version": 3
   },
   "file_extension": ".py",
   "mimetype": "text/x-python",
   "name": "python",
   "nbconvert_exporter": "python",
   "pygments_lexer": "ipython3",
   "version": "3.5.2"
  }
 },
 "nbformat": 4,
 "nbformat_minor": 2
}
