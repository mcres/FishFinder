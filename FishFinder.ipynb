{
 "cells": [
  {
   "cell_type": "code",
   "execution_count": 5,
   "metadata": {},
   "outputs": [],
   "source": [
    "from utils.generate_data import generate_data\n",
    "from utils import world\n",
    "from utils import neural_network_keras\n",
    "from sklearn.model_selection import train_test_split\n",
    "import pandas as pd\n",
    "import numpy as np\n",
    "import json"
   ]
  },
  {
   "cell_type": "markdown",
   "metadata": {},
   "source": [
    "# Generating test dataset"
   ]
  },
  {
   "cell_type": "code",
   "execution_count": 6,
   "metadata": {},
   "outputs": [],
   "source": [
    "with open('conf.json') as f:\n",
    "    conf = json.load(f)"
   ]
  },
  {
   "cell_type": "code",
   "execution_count": 7,
   "metadata": {},
   "outputs": [
    {
     "name": "stdout",
     "output_type": "stream",
     "text": [
      "Generating new data!\n"
     ]
    }
   ],
   "source": [
    "# Generates new data and saves it into csv file\n",
    "print(\"Generating new data!\")\n",
    "generate_data(conf[\"map\"][\"number_of_buoys\"], conf[\"map\"][\"data_per_buoy\"], \n",
    "              conf[\"map\"][\"world_width\"], conf[\"map\"][\"world_height\"])\n",
    "\n",
    "# Convert data in csv file into numpy arrays\n",
    "# Use pandas to handle csv file created\n",
    "df = pd.read_csv('pandas_data.csv')\n",
    "features = df.iloc[:, :10]\n",
    "labels = df.iloc[:, 10:]\n",
    "\n",
    "# Sets training and test data sets\n",
    "X_train, X_test, Y_train, Y_test = train_test_split(\n",
    "        features, labels, test_size=0.20) # returns numpy.ndarray\n",
    "\n",
    "# save variables for saving time next time they're needed\n",
    "np.savez('data_arrays', X_train, Y_train, X_test, Y_test)"
   ]
  },
  {
   "cell_type": "markdown",
   "metadata": {},
   "source": [
    "# Training model"
   ]
  },
  {
   "cell_type": "code",
   "execution_count": 8,
   "metadata": {},
   "outputs": [],
   "source": [
    "from utils import neural_network_keras"
   ]
  },
  {
   "cell_type": "code",
   "execution_count": 9,
   "metadata": {},
   "outputs": [
    {
     "name": "stdout",
     "output_type": "stream",
     "text": [
      "Loading arrays from file\n",
      "_________________________________________________________________\n",
      "Layer (type)                 Output Shape              Param #   \n",
      "=================================================================\n",
      "input_1 (InputLayer)         (None, 10)                0         \n",
      "_________________________________________________________________\n",
      "dense_1 (Dense)              (None, 20)                220       \n",
      "_________________________________________________________________\n",
      "activation_1 (Activation)    (None, 20)                0         \n",
      "_________________________________________________________________\n",
      "dense_2 (Dense)              (None, 15)                315       \n",
      "_________________________________________________________________\n",
      "activation_2 (Activation)    (None, 15)                0         \n",
      "_________________________________________________________________\n",
      "dense_3 (Dense)              (None, 6)                 96        \n",
      "_________________________________________________________________\n",
      "activation_3 (Activation)    (None, 6)                 0         \n",
      "_________________________________________________________________\n",
      "dense_4 (Dense)              (None, 3)                 21        \n",
      "_________________________________________________________________\n",
      "activation_4 (Activation)    (None, 3)                 0         \n",
      "_________________________________________________________________\n",
      "dense_5 (Dense)              (None, 1)                 4         \n",
      "_________________________________________________________________\n",
      "activation_5 (Activation)    (None, 1)                 0         \n",
      "=================================================================\n",
      "Total params: 656\n",
      "Trainable params: 656\n",
      "Non-trainable params: 0\n",
      "_________________________________________________________________\n",
      "[[  3.80000000e+01   1.00000000e+01   3.20000000e+01   2.00000000e+00\n",
      "    2.90000000e+01   3.00000000e+00   2.01300000e+03   3.00000000e+00\n",
      "    4.70000000e+02   1.28000000e+02]\n",
      " [  2.40000000e+01   7.00000000e+00   1.30000000e+01   9.00000000e+00\n",
      "    1.20000000e+01   9.00000000e+00   2.01600000e+03   7.00000000e+00\n",
      "    4.70000000e+01   4.20000000e+02]\n",
      " [  6.00000000e+00   2.00000000e+00   2.90000000e+01   1.00000000e+00\n",
      "    1.30000000e+01   1.10000000e+01   2.01700000e+03   1.50000000e+01\n",
      "    4.10000000e+02   3.96000000e+02]\n",
      " [  1.70000000e+01   5.00000000e+00   4.00000000e+01   7.00000000e+00\n",
      "    2.20000000e+01   1.20000000e+01   2.01700000e+03   3.10000000e+01\n",
      "    3.29000000e+02   2.40000000e+02]\n",
      " [  4.20000000e+01   3.00000000e+00   3.60000000e+01   1.90000000e+01\n",
      "    2.60000000e+01   2.00000000e+00   2.01900000e+03   4.00000000e+00\n",
      "    4.91000000e+02   1.03000000e+02]\n",
      " [  4.70000000e+01   8.00000000e+00   3.60000000e+01   1.90000000e+01\n",
      "    2.60000000e+01   2.00000000e+00   2.01900000e+03   2.40000000e+01\n",
      "    3.40000000e+01   2.83000000e+02]\n",
      " [  2.20000000e+01   6.00000000e+00   6.00000000e+00   5.00000000e+00\n",
      "    2.50000000e+01   7.00000000e+00   2.01100000e+03   7.00000000e+00\n",
      "    1.54000000e+02   1.68000000e+02]\n",
      " [  5.00000000e+00   2.00000000e+00   3.50000000e+01   1.00000000e+01\n",
      "    1.20000000e+01   6.00000000e+00   2.01400000e+03   2.20000000e+01\n",
      "    1.22000000e+02   4.66000000e+02]\n",
      " [  1.40000000e+01   4.00000000e+00   3.90000000e+01   1.90000000e+01\n",
      "    7.00000000e+00   0.00000000e+00   2.01100000e+03   3.70000000e+01\n",
      "    3.08000000e+02   1.01000000e+02]\n",
      " [  3.60000000e+01   1.00000000e+01   2.90000000e+01   9.00000000e+00\n",
      "    1.00000000e+00   0.00000000e+00   2.01600000e+03   1.00000000e+01\n",
      "    3.97000000e+02   1.71000000e+02]\n",
      " [  3.90000000e+01   1.00000000e+01   5.90000000e+01   8.00000000e+00\n",
      "    2.00000000e+00   1.00000000e+00   2.01200000e+03   5.00000000e+00\n",
      "    4.16000000e+02   2.37000000e+02]\n",
      " [  2.80000000e+01   8.00000000e+00   4.00000000e+00   1.80000000e+01\n",
      "    1.20000000e+01   1.10000000e+01   2.01500000e+03   2.00000000e+00\n",
      "    7.50000000e+01   2.20000000e+01]\n",
      " [  3.70000000e+01   1.00000000e+01   5.80000000e+01   9.00000000e+00\n",
      "    2.30000000e+01   8.00000000e+00   2.01400000e+03   2.20000000e+01\n",
      "    2.85000000e+02   1.06000000e+02]\n",
      " [  3.30000000e+01   9.00000000e+00   3.10000000e+01   7.00000000e+00\n",
      "    1.20000000e+01   1.20000000e+01   2.01400000e+03   3.00000000e+01\n",
      "    2.33000000e+02   2.97000000e+02]\n",
      " [  4.10000000e+01   2.00000000e+00   3.60000000e+01   1.90000000e+01\n",
      "    2.60000000e+01   2.00000000e+00   2.01900000e+03   7.00000000e+00\n",
      "    8.40000000e+01   1.69000000e+02]\n",
      " [  4.00000000e+01   1.00000000e+00   3.60000000e+01   1.90000000e+01\n",
      "    2.60000000e+01   2.00000000e+00   2.01900000e+03   1.80000000e+01\n",
      "    6.70000000e+01   9.60000000e+01]\n",
      " [  1.60000000e+01   5.00000000e+00   3.00000000e+00   2.20000000e+01\n",
      "    2.90000000e+01   6.00000000e+00   2.01700000e+03   2.00000000e+00\n",
      "    3.93000000e+02   4.37000000e+02]\n",
      " [  1.10000000e+01   3.00000000e+00   1.20000000e+01   1.00000000e+01\n",
      "    6.00000000e+00   3.00000000e+00   2.01600000e+03   0.00000000e+00\n",
      "    3.49000000e+02   6.00000000e+00]\n",
      " [  3.50000000e+01   9.00000000e+00   5.80000000e+01   2.00000000e+00\n",
      "    1.40000000e+01   8.00000000e+00   2.01200000e+03   2.40000000e+01\n",
      "    4.83000000e+02   2.41000000e+02]\n",
      " [  2.90000000e+01   8.00000000e+00   4.30000000e+01   8.00000000e+00\n",
      "    1.60000000e+01   6.00000000e+00   2.01600000e+03   3.20000000e+01\n",
      "    1.43000000e+02   3.50000000e+01]\n",
      " [  9.00000000e+00   3.00000000e+00   1.40000000e+01   7.00000000e+00\n",
      "    1.40000000e+01   4.00000000e+00   2.01500000e+03   2.90000000e+01\n",
      "    1.79000000e+02   3.72000000e+02]\n",
      " [  3.00000000e+01   8.00000000e+00   5.20000000e+01   2.40000000e+01\n",
      "    2.90000000e+01   2.00000000e+00   2.01100000e+03   3.40000000e+01\n",
      "    3.07000000e+02   2.89000000e+02]\n",
      " [  2.00000000e+01   6.00000000e+00   3.80000000e+01   1.40000000e+01\n",
      "    1.40000000e+01   5.00000000e+00   2.01400000e+03   2.50000000e+01\n",
      "    3.14000000e+02   4.49000000e+02]\n",
      " [  1.30000000e+01   4.00000000e+00   1.80000000e+01   4.00000000e+00\n",
      "    2.60000000e+01   9.00000000e+00   2.01500000e+03   2.60000000e+01\n",
      "    2.66000000e+02   2.12000000e+02]\n",
      " [  4.90000000e+01   1.00000000e+01   3.60000000e+01   1.90000000e+01\n",
      "    2.60000000e+01   2.00000000e+00   2.01900000e+03   3.10000000e+01\n",
      "    7.90000000e+01   1.38000000e+02]\n",
      " [  3.00000000e+00   1.00000000e+00   2.30000000e+01   7.00000000e+00\n",
      "    1.20000000e+01   5.00000000e+00   2.01000000e+03   1.50000000e+01\n",
      "    4.49000000e+02   1.91000000e+02]\n",
      " [  2.70000000e+01   7.00000000e+00   2.60000000e+01   1.20000000e+01\n",
      "    2.30000000e+01   1.00000000e+01   2.01700000e+03   2.50000000e+01\n",
      "    4.50000000e+01   4.42000000e+02]\n",
      " [  2.50000000e+01   7.00000000e+00   7.00000000e+00   1.00000000e+00\n",
      "    4.00000000e+00   1.10000000e+01   2.01100000e+03   2.40000000e+01\n",
      "    4.21000000e+02   2.88000000e+02]\n",
      " [  4.00000000e+00   2.00000000e+00   3.00000000e+00   1.70000000e+01\n",
      "    1.00000000e+00   8.00000000e+00   2.01000000e+03   1.20000000e+01\n",
      "    2.39000000e+02   2.30000000e+01]\n",
      " [  1.00000000e+01   3.00000000e+00   1.50000000e+01   1.10000000e+01\n",
      "    8.00000000e+00   1.10000000e+01   2.01500000e+03   1.30000000e+01\n",
      "    4.24000000e+02   9.00000000e+00]\n",
      " [  3.20000000e+01   9.00000000e+00   5.10000000e+01   1.80000000e+01\n",
      "    2.40000000e+01   9.00000000e+00   2.01400000e+03   1.70000000e+01\n",
      "    4.90000000e+01   2.67000000e+02]\n",
      " [  2.00000000e+00   1.00000000e+00   4.00000000e+01   1.90000000e+01\n",
      "    1.90000000e+01   9.00000000e+00   2.01300000e+03   1.70000000e+01\n",
      "    2.88000000e+02   4.69000000e+02]\n",
      " [  2.10000000e+01   6.00000000e+00   5.40000000e+01   1.70000000e+01\n",
      "    9.00000000e+00   8.00000000e+00   2.01600000e+03   3.00000000e+01\n",
      "    1.40000000e+01   3.85000000e+02]\n",
      " [  4.40000000e+01   5.00000000e+00   3.60000000e+01   1.90000000e+01\n",
      "    2.60000000e+01   2.00000000e+00   2.01900000e+03   3.80000000e+01\n",
      "    2.90000000e+01   4.78000000e+02]\n",
      " [  2.30000000e+01   6.00000000e+00   3.30000000e+01   1.70000000e+01\n",
      "    1.10000000e+01   3.00000000e+00   2.01400000e+03   3.00000000e+01\n",
      "    3.58000000e+02   2.00000000e+02]\n",
      " [  1.90000000e+01   5.00000000e+00   2.80000000e+01   1.50000000e+01\n",
      "    6.00000000e+00   9.00000000e+00   2.01500000e+03   1.70000000e+01\n",
      "    2.03000000e+02   4.21000000e+02]\n",
      " [  4.60000000e+01   7.00000000e+00   3.60000000e+01   1.90000000e+01\n",
      "    2.60000000e+01   2.00000000e+00   2.01900000e+03   9.00000000e+00\n",
      "    1.20000000e+01   1.63000000e+02]\n",
      " [  2.60000000e+01   7.00000000e+00   4.20000000e+01   2.20000000e+01\n",
      "    1.00000000e+00   4.00000000e+00   2.01700000e+03   4.00000000e+01\n",
      "    1.24000000e+02   1.98000000e+02]\n",
      " [  0.00000000e+00   1.00000000e+00   2.60000000e+01   4.00000000e+00\n",
      "    1.80000000e+01   1.00000000e+01   2.01500000e+03   2.20000000e+01\n",
      "    1.00000000e+01   1.23000000e+02]\n",
      " [  4.30000000e+01   4.00000000e+00   3.60000000e+01   1.90000000e+01\n",
      "    2.60000000e+01   2.00000000e+00   2.01900000e+03   6.00000000e+00\n",
      "    1.36000000e+02   3.65000000e+02]] [[ 0.  0.]\n",
      " [ 1.  0.]\n",
      " [ 6.  1.]\n",
      " [ 3.  1.]\n",
      " [ 5.  0.]\n",
      " [ 5.  0.]\n",
      " [ 0.  1.]\n",
      " [ 5.  0.]\n",
      " [ 4.  1.]\n",
      " [ 2.  1.]\n",
      " [ 3.  1.]\n",
      " [ 8.  0.]\n",
      " [ 1.  0.]\n",
      " [ 8.  1.]\n",
      " [ 1.  1.]\n",
      " [ 0.  0.]\n",
      " [ 4.  0.]\n",
      " [ 1.  1.]\n",
      " [ 9.  1.]\n",
      " [ 5.  1.]\n",
      " [ 5.  0.]\n",
      " [ 5.  0.]\n",
      " [ 5.  1.]\n",
      " [ 8.  1.]\n",
      " [ 6.  0.]\n",
      " [ 2.  0.]\n",
      " [ 1.  1.]\n",
      " [ 3.  0.]\n",
      " [ 8.  0.]\n",
      " [ 3.  0.]\n",
      " [ 9.  1.]\n",
      " [ 5.  1.]\n",
      " [ 4.  0.]\n",
      " [ 8.  1.]\n",
      " [ 9.  1.]\n",
      " [ 4.  1.]\n",
      " [ 4.  1.]\n",
      " [ 6.  0.]\n",
      " [ 8.  0.]\n",
      " [ 7.  0.]]\n"
     ]
    },
    {
     "ename": "ValueError",
     "evalue": "Error when checking target: expected activation_5 to have shape (1,) but got array with shape (2,)",
     "output_type": "error",
     "traceback": [
      "\u001b[0;31m---------------------------------------------------------------------------\u001b[0m",
      "\u001b[0;31mValueError\u001b[0m                                Traceback (most recent call last)",
      "\u001b[0;32m<ipython-input-9-f22f9e3bb77b>\u001b[0m in \u001b[0;36m<module>\u001b[0;34m\u001b[0m\n\u001b[1;32m     10\u001b[0m \u001b[0;31m#print(type(Y_test[0][0]))\u001b[0m\u001b[0;34m\u001b[0m\u001b[0;34m\u001b[0m\u001b[0m\n\u001b[1;32m     11\u001b[0m \u001b[0mmodel\u001b[0m \u001b[0;34m=\u001b[0m \u001b[0mneural_network_keras\u001b[0m\u001b[0;34m.\u001b[0m\u001b[0mcreate_model_api\u001b[0m\u001b[0;34m(\u001b[0m\u001b[0;34m)\u001b[0m\u001b[0;34m\u001b[0m\u001b[0m\n\u001b[0;32m---> 12\u001b[0;31m \u001b[0mneural_network_keras\u001b[0m\u001b[0;34m.\u001b[0m\u001b[0mtrain_model\u001b[0m\u001b[0;34m(\u001b[0m\u001b[0mX_train\u001b[0m\u001b[0;34m,\u001b[0m \u001b[0mY_train\u001b[0m\u001b[0;34m,\u001b[0m \u001b[0mX_test\u001b[0m\u001b[0;34m,\u001b[0m \u001b[0mY_test\u001b[0m\u001b[0;34m,\u001b[0m \u001b[0mmodel\u001b[0m\u001b[0;34m)\u001b[0m\u001b[0;34m\u001b[0m\u001b[0m\n\u001b[0m",
      "\u001b[0;32m~/git/FishFinder/utils/neural_network_keras.py\u001b[0m in \u001b[0;36mtrain_model\u001b[0;34m(X_train, Y_train, X_test, Y_test, model)\u001b[0m\n\u001b[1;32m     53\u001b[0m     \u001b[0msgd\u001b[0m \u001b[0;34m=\u001b[0m \u001b[0mSGD\u001b[0m\u001b[0;34m(\u001b[0m\u001b[0mlr\u001b[0m\u001b[0;34m=\u001b[0m\u001b[0;36m0.001\u001b[0m\u001b[0;34m,\u001b[0m \u001b[0mmomentum\u001b[0m\u001b[0;34m=\u001b[0m\u001b[0;36m0.0\u001b[0m\u001b[0;34m,\u001b[0m \u001b[0mdecay\u001b[0m\u001b[0;34m=\u001b[0m\u001b[0;36m0.0\u001b[0m\u001b[0;34m,\u001b[0m \u001b[0mnesterov\u001b[0m\u001b[0;34m=\u001b[0m\u001b[0;32mFalse\u001b[0m\u001b[0;34m)\u001b[0m\u001b[0;34m\u001b[0m\u001b[0m\n\u001b[1;32m     54\u001b[0m     \u001b[0mmodel\u001b[0m\u001b[0;34m.\u001b[0m\u001b[0mcompile\u001b[0m\u001b[0;34m(\u001b[0m\u001b[0mloss\u001b[0m\u001b[0;34m=\u001b[0m\u001b[0;34m'mean_squared_error'\u001b[0m\u001b[0;34m,\u001b[0m \u001b[0moptimizer\u001b[0m\u001b[0;34m=\u001b[0m\u001b[0msgd\u001b[0m\u001b[0;34m,\u001b[0m \u001b[0mmetrics\u001b[0m\u001b[0;34m=\u001b[0m\u001b[0;34m[\u001b[0m\u001b[0;34m'accuracy'\u001b[0m\u001b[0;34m]\u001b[0m\u001b[0;34m)\u001b[0m\u001b[0;34m\u001b[0m\u001b[0m\n\u001b[0;32m---> 55\u001b[0;31m     \u001b[0mmodel\u001b[0m\u001b[0;34m.\u001b[0m\u001b[0mfit\u001b[0m\u001b[0;34m(\u001b[0m\u001b[0mX_train\u001b[0m\u001b[0;34m,\u001b[0m \u001b[0mY_train\u001b[0m\u001b[0;34m,\u001b[0m \u001b[0mepochs\u001b[0m\u001b[0;34m=\u001b[0m\u001b[0;36m10\u001b[0m\u001b[0;34m)\u001b[0m \u001b[0;31m# shows loss and accuracy in addition\u001b[0m\u001b[0;34m\u001b[0m\u001b[0m\n\u001b[0m\u001b[1;32m     56\u001b[0m \u001b[0;34m\u001b[0m\u001b[0m\n\u001b[1;32m     57\u001b[0m     \u001b[0mprint\u001b[0m\u001b[0;34m(\u001b[0m\u001b[0;34m\"model trained!\"\u001b[0m\u001b[0;34m)\u001b[0m\u001b[0;34m\u001b[0m\u001b[0m\n",
      "\u001b[0;32m/usr/local/lib/python3.5/dist-packages/keras/engine/training.py\u001b[0m in \u001b[0;36mfit\u001b[0;34m(self, x, y, batch_size, epochs, verbose, callbacks, validation_split, validation_data, shuffle, class_weight, sample_weight, initial_epoch, steps_per_epoch, validation_steps, **kwargs)\u001b[0m\n\u001b[1;32m   1628\u001b[0m             \u001b[0msample_weight\u001b[0m\u001b[0;34m=\u001b[0m\u001b[0msample_weight\u001b[0m\u001b[0;34m,\u001b[0m\u001b[0;34m\u001b[0m\u001b[0m\n\u001b[1;32m   1629\u001b[0m             \u001b[0mclass_weight\u001b[0m\u001b[0;34m=\u001b[0m\u001b[0mclass_weight\u001b[0m\u001b[0;34m,\u001b[0m\u001b[0;34m\u001b[0m\u001b[0m\n\u001b[0;32m-> 1630\u001b[0;31m             batch_size=batch_size)\n\u001b[0m\u001b[1;32m   1631\u001b[0m         \u001b[0;31m# Prepare validation data.\u001b[0m\u001b[0;34m\u001b[0m\u001b[0;34m\u001b[0m\u001b[0m\n\u001b[1;32m   1632\u001b[0m         \u001b[0mdo_validation\u001b[0m \u001b[0;34m=\u001b[0m \u001b[0;32mFalse\u001b[0m\u001b[0;34m\u001b[0m\u001b[0m\n",
      "\u001b[0;32m/usr/local/lib/python3.5/dist-packages/keras/engine/training.py\u001b[0m in \u001b[0;36m_standardize_user_data\u001b[0;34m(self, x, y, sample_weight, class_weight, check_array_lengths, batch_size)\u001b[0m\n\u001b[1;32m   1478\u001b[0m                                     \u001b[0moutput_shapes\u001b[0m\u001b[0;34m,\u001b[0m\u001b[0;34m\u001b[0m\u001b[0m\n\u001b[1;32m   1479\u001b[0m                                     \u001b[0mcheck_batch_axis\u001b[0m\u001b[0;34m=\u001b[0m\u001b[0;32mFalse\u001b[0m\u001b[0;34m,\u001b[0m\u001b[0;34m\u001b[0m\u001b[0m\n\u001b[0;32m-> 1480\u001b[0;31m                                     exception_prefix='target')\n\u001b[0m\u001b[1;32m   1481\u001b[0m         sample_weights = _standardize_sample_weights(sample_weight,\n\u001b[1;32m   1482\u001b[0m                                                      self._feed_output_names)\n",
      "\u001b[0;32m/usr/local/lib/python3.5/dist-packages/keras/engine/training.py\u001b[0m in \u001b[0;36m_standardize_input_data\u001b[0;34m(data, names, shapes, check_batch_axis, exception_prefix)\u001b[0m\n\u001b[1;32m    121\u001b[0m                             \u001b[0;34m': expected '\u001b[0m \u001b[0;34m+\u001b[0m \u001b[0mnames\u001b[0m\u001b[0;34m[\u001b[0m\u001b[0mi\u001b[0m\u001b[0;34m]\u001b[0m \u001b[0;34m+\u001b[0m \u001b[0;34m' to have shape '\u001b[0m \u001b[0;34m+\u001b[0m\u001b[0;34m\u001b[0m\u001b[0m\n\u001b[1;32m    122\u001b[0m                             \u001b[0mstr\u001b[0m\u001b[0;34m(\u001b[0m\u001b[0mshape\u001b[0m\u001b[0;34m)\u001b[0m \u001b[0;34m+\u001b[0m \u001b[0;34m' but got array with shape '\u001b[0m \u001b[0;34m+\u001b[0m\u001b[0;34m\u001b[0m\u001b[0m\n\u001b[0;32m--> 123\u001b[0;31m                             str(data_shape))\n\u001b[0m\u001b[1;32m    124\u001b[0m     \u001b[0;32mreturn\u001b[0m \u001b[0mdata\u001b[0m\u001b[0;34m\u001b[0m\u001b[0m\n\u001b[1;32m    125\u001b[0m \u001b[0;34m\u001b[0m\u001b[0m\n",
      "\u001b[0;31mValueError\u001b[0m: Error when checking target: expected activation_5 to have shape (1,) but got array with shape (2,)"
     ]
    }
   ],
   "source": [
    "print (\"Loading arrays from file\")\n",
    "npzfile = np.load('data_arrays.npz')\n",
    "\n",
    "X_train, Y_train, X_test, Y_test = npzfile['arr_0'], npzfile['arr_1'], npzfile['arr_2'],npzfile['arr_3']\n",
    "\n",
    "# print('X_train.shape = ' + str(X_train.shape))\n",
    "# print('Y_train.shape = ' + str(Y_train.shape))\n",
    "# print('X_test.shape = ' + str(X_test.shape))\n",
    "# print('Y_test.shape = ' + str(Y_test.shape))\n",
    "#print(type(Y_test[0][0]))\n",
    "model = neural_network_keras.create_model_api()\n",
    "neural_network_keras.train_model(X_train, Y_train, X_test, Y_test, model)"
   ]
  },
  {
   "cell_type": "markdown",
   "metadata": {},
   "source": [
    "# Showing results"
   ]
  },
  {
   "cell_type": "code",
   "execution_count": 10,
   "metadata": {},
   "outputs": [],
   "source": [
    "from utils import world\n",
    "import os\n",
    "import datetime"
   ]
  },
  {
   "cell_type": "code",
   "execution_count": 11,
   "metadata": {},
   "outputs": [
    {
     "name": "stdout",
     "output_type": "stream",
     "text": [
      "Results ready in /home/marti/git/FishFinder/out/2019226_193723\n"
     ]
    },
    {
     "data": {
      "image/png": "[encoded data removed]",
      "text/plain": [
       "<Figure size 432x288 with 1 Axes>"
      ]
     },
     "metadata": {},
     "output_type": "display_data"
    }
   ],
   "source": [
    "grid_parameters = world.create_grid(conf[\"map\"][\"start_x\"], conf[\"map\"][\"start_y\"],\n",
    "                                    conf[\"map\"][\"end_x\"], conf[\"map\"][\"end_y\"], conf[\"map\"][\"displacement\"])\n",
    "paths, fish_list = world.create_path(conf[\"weights\"], grid_parameters[0])\n",
    "\n",
    "# create directory and save results\n",
    "\n",
    "# graph\n",
    "if not os.path.exists('out'):\n",
    "    os.mkdir('out')\n",
    "date = datetime.datetime.now()\n",
    "dirname = str(date.year) + str(date.month) + str(date.day) + '_' + \\\n",
    " str(date.hour) + str(date.minute) + str(date.second)\n",
    "path_results = os.path.join(os.getcwd(), 'out', dirname)\n",
    "\n",
    "\n",
    "world.show_grid(grid_parameters[1], conf[\"map\"][\"show_points\"], paths, path_results)\n",
    "\n",
    "# computations\n",
    "boat_features = [conf[\"boat_features\"][\"avg_speed\"], conf[\"boat_features\"][\"fuel_consumption\"], \\\n",
    "conf[\"boat_features\"][\"fuel_consumption_turning\"], conf[\"boat_features\"][\"time_consumption_turning\"]]\n",
    "world.compute_feedback_data(paths, fish_list, path_results, boat_features)\n",
    "\n",
    "print('Results ready in ' + path_results)"
   ]
  },
  {
   "cell_type": "code",
   "execution_count": null,
   "metadata": {},
   "outputs": [],
   "source": []
  }
 ],
 "metadata": {
  "kernelspec": {
   "display_name": "Python 3",
   "language": "python",
   "name": "python3"
  },
  "language_info": {
   "codemirror_mode": {
    "name": "ipython",
    "version": 3
   },
   "file_extension": ".py",
   "mimetype": "text/x-python",
   "name": "python",
   "nbconvert_exporter": "python",
   "pygments_lexer": "ipython3",
   "version": "3.5.2"
  }
 },
 "nbformat": 4,
 "nbformat_minor": 2
}
