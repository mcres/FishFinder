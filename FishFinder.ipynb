{
 "cells": [
  {
   "cell_type": "code",
   "execution_count": 6,
   "metadata": {},
   "outputs": [],
   "source": [
    "from functions.generate_data import generate_data\n",
    "from functions import world\n",
    "from functions import neural_network_keras\n",
    "from sklearn.model_selection import train_test_split\n",
    "import pandas as pd\n",
    "import os\n",
    "import sys\n",
    "import numpy as np\n",
    "import json\n",
    "import datetime"
   ]
  },
  {
   "cell_type": "markdown",
   "metadata": {},
   "source": [
    "# Generating test dataset"
   ]
  },
  {
   "cell_type": "code",
   "execution_count": 7,
   "metadata": {},
   "outputs": [],
   "source": [
    "with open('conf.json') as f:\n",
    "    conf = json.load(f)"
   ]
  },
  {
   "cell_type": "code",
   "execution_count": 9,
   "metadata": {},
   "outputs": [
    {
     "name": "stdout",
     "output_type": "stream",
     "text": [
      "Generating new data!\n"
     ]
    }
   ],
   "source": [
    "# Generates new data and saves it into csv file\n",
    "print(\"Generating new data!\")\n",
    "generate_data(conf[\"map\"][\"number_of_buoys\"], conf[\"map\"][\"data_per_buoy\"], \n",
    "              conf[\"map\"][\"world_width\"], conf[\"map\"][\"world_height\"])\n",
    "\n",
    "# Convert data in csv file into numpy arrays\n",
    "# Use pandas to handle csv file created\n",
    "df = pd.read_csv('data_buoys.csv')\n",
    "features = df.iloc[:, :10]\n",
    "labels = df.iloc[:, 10:]\n",
    "\n",
    "# Sets training and test data sets\n",
    "X_train, X_test, Y_train, Y_test = train_test_split(\n",
    "        features, labels, test_size=0.20) # returns numpy.ndarray\n",
    "\n",
    "# save variables for saving time next time they're needed\n",
    "np.savez('data_arrays', X_train, Y_train, X_test, Y_test)"
   ]
  },
  {
   "cell_type": "markdown",
   "metadata": {},
   "source": [
    "# Training model"
   ]
  },
  {
   "cell_type": "code",
   "execution_count": 10,
   "metadata": {},
   "outputs": [],
   "source": [
    "from functions import neural_network_keras"
   ]
  },
  {
   "cell_type": "code",
   "execution_count": 11,
   "metadata": {},
   "outputs": [
    {
     "name": "stdout",
     "output_type": "stream",
     "text": [
      "Loading arrays from file\n",
      "_________________________________________________________________\n",
      "Layer (type)                 Output Shape              Param #   \n",
      "=================================================================\n",
      "input_1 (InputLayer)         (None, 10)                0         \n",
      "_________________________________________________________________\n",
      "dense_1 (Dense)              (None, 20)                220       \n",
      "_________________________________________________________________\n",
      "activation_1 (Activation)    (None, 20)                0         \n",
      "_________________________________________________________________\n",
      "dense_2 (Dense)              (None, 15)                315       \n",
      "_________________________________________________________________\n",
      "activation_2 (Activation)    (None, 15)                0         \n",
      "_________________________________________________________________\n",
      "dense_3 (Dense)              (None, 6)                 96        \n",
      "_________________________________________________________________\n",
      "activation_3 (Activation)    (None, 6)                 0         \n",
      "_________________________________________________________________\n",
      "dense_4 (Dense)              (None, 3)                 21        \n",
      "_________________________________________________________________\n",
      "activation_4 (Activation)    (None, 3)                 0         \n",
      "_________________________________________________________________\n",
      "dense_5 (Dense)              (None, 1)                 4         \n",
      "_________________________________________________________________\n",
      "activation_5 (Activation)    (None, 1)                 0         \n",
      "=================================================================\n",
      "Total params: 656\n",
      "Trainable params: 656\n",
      "Non-trainable params: 0\n",
      "_________________________________________________________________\n",
      "[[   9   38   20   25    2 2019   10  488  300    3]\n",
      " [   7   20   17   20    8 2017   16  385   28    2]\n",
      " [   5   44   21    7   11 2013   31  284  340    8]\n",
      " [   3   36   13    1    6 2014   31  429  211    9]\n",
      " [   6   35   20    6    5 2011   12  139  366    8]\n",
      " [   5   19    0   20    8 2015   22  104  198    7]\n",
      " [   7   38   20   25    2 2019    2  253  379    9]\n",
      " [   9   25    9    3   10 2015   19  173  139    5]\n",
      " [  10   21   12    9    7 2016   26   54  241    3]\n",
      " [   9   55   16    4    6 2015   14  326  403   10]\n",
      " [   4   56   19   11    2 2011   31  214  203    6]\n",
      " [   6   38   20   25    2 2019   17  120  434    2]\n",
      " [   1   21   13   21    2 2017   34   67   97    1]\n",
      " [   1    3   13   10    7 2013    4  495  412    3]\n",
      " [   8   14    7   25    8 2013    2  351  192    3]\n",
      " [   3   43    4    1    7 2017   34  146  364    2]\n",
      " [   2   54    4   29    6 2015   37  374   59    9]\n",
      " [   2   55   20   17    4 2015   35  386  415    4]\n",
      " [   5   10    8   21    8 2011   10  347  383    2]\n",
      " [   7   45   17   18    7 2017   22  426  319    2]\n",
      " [   8    9    1   28    6 2014   36   27  127    5]\n",
      " [  10   19   13   22    1 2013   18   52  268    6]\n",
      " [   6   40   16   19    2 2014   31  280  295    8]\n",
      " [   6    9   21   19    9 2016   24  230  295    3]\n",
      " [   9   35    6   26   11 2017   18  409  192    2]\n",
      " [   1   43    7   16   11 2012   30  454   13    2]\n",
      " [   3   55   20   16    3 2013   31  464   91   10]\n",
      " [   8   38   20   25    2 2019   13  481  114    1]\n",
      " [   1   52   18   14    3 2014   18  423   98    2]\n",
      " [   2   31    3   20    2 2012   32  247   45    8]\n",
      " [   5   38   20   25    2 2019    4  371  421    1]\n",
      " [   1   38   20   25    2 2019    6  276   94    0]\n",
      " [   7    6    2   18   11 2013   25  127    9    6]\n",
      " [   6    9    4   29    0 2014   17  474  126    2]\n",
      " [  10   30   18   13   12 2010   26  479   46    8]\n",
      " [   4   12   15    3    1 2011   30  372  314    2]\n",
      " [   3   38   20   25    2 2019    3  123  304    6]\n",
      " [   4   38   20   25    2 2019   22  414  170    7]\n",
      " [   4   13    5   11    9 2013   35  338  141   10]\n",
      " [   4   52   16   10    3 2010   18  480  123    7]] [[0]\n",
      " [0]\n",
      " [0]\n",
      " [0]\n",
      " [1]\n",
      " [1]\n",
      " [1]\n",
      " [1]\n",
      " [1]\n",
      " [0]\n",
      " [0]\n",
      " [1]\n",
      " [1]\n",
      " [0]\n",
      " [0]\n",
      " [1]\n",
      " [0]\n",
      " [0]\n",
      " [1]\n",
      " [0]\n",
      " [0]\n",
      " [1]\n",
      " [0]\n",
      " [0]\n",
      " [0]\n",
      " [0]\n",
      " [1]\n",
      " [0]\n",
      " [0]\n",
      " [1]\n",
      " [1]\n",
      " [0]\n",
      " [0]\n",
      " [0]\n",
      " [1]\n",
      " [0]\n",
      " [1]\n",
      " [1]\n",
      " [0]\n",
      " [0]]\n",
      "Epoch 1/10\n",
      "40/40 [==============================] - 1s 28ms/step - loss: 0.3594 - acc: 0.6000\n",
      "Epoch 2/10\n",
      "40/40 [==============================] - 0s 353us/step - loss: 0.3334 - acc: 0.6000\n",
      "Epoch 3/10\n",
      "40/40 [==============================] - 0s 417us/step - loss: 0.2914 - acc: 0.6000\n",
      "Epoch 4/10\n",
      "40/40 [==============================] - 0s 337us/step - loss: 0.2443 - acc: 0.6000\n",
      "Epoch 5/10\n",
      "40/40 [==============================] - 0s 347us/step - loss: 0.2648 - acc: 0.6000\n",
      "Epoch 6/10\n",
      "40/40 [==============================] - 0s 326us/step - loss: 0.2846 - acc: 0.5000\n",
      "Epoch 7/10\n",
      "40/40 [==============================] - 0s 466us/step - loss: 0.2509 - acc: 0.6000\n",
      "Epoch 8/10\n",
      "40/40 [==============================] - 0s 322us/step - loss: 0.2432 - acc: 0.6000\n",
      "Epoch 9/10\n",
      "40/40 [==============================] - 0s 419us/step - loss: 0.2798 - acc: 0.3500\n",
      "Epoch 10/10\n",
      "40/40 [==============================] - 0s 367us/step - loss: 0.2642 - acc: 0.4500\n",
      "model trained!\n",
      "10/10 [==============================] - 0s 10ms/step\n",
      "Test accuracy =  0.800000011921\n",
      "Test loss =  0.194032177329\n",
      "model weights saved to /model_weights.h5py\n"
     ]
    },
    {
     "data": {
      "text/plain": [
       "<keras.engine.training.Model at 0x7f22d1c2d2e8>"
      ]
     },
     "execution_count": 11,
     "metadata": {},
     "output_type": "execute_result"
    }
   ],
   "source": [
    "print (\"Loading arrays from file\")\n",
    "npzfile = np.load('data_arrays.npz')\n",
    "\n",
    "X_train, Y_train, X_test, Y_test = npzfile['arr_0'], npzfile['arr_1'], npzfile['arr_2'],npzfile['arr_3']\n",
    "\n",
    "# print('X_train.shape = ' + str(X_train.shape))\n",
    "# print('Y_train.shape = ' + str(Y_train.shape))\n",
    "# print('X_test.shape = ' + str(X_test.shape))\n",
    "# print('Y_test.shape = ' + str(Y_test.shape))\n",
    "#print(type(Y_test[0][0]))\n",
    "model = neural_network_keras.create_model_api()\n",
    "neural_network_keras.train_model(X_train, Y_train, X_test, Y_test, model)"
   ]
  },
  {
   "cell_type": "markdown",
   "metadata": {},
   "source": [
    "# Showing results"
   ]
  },
  {
   "cell_type": "code",
   "execution_count": 12,
   "metadata": {},
   "outputs": [],
   "source": [
    "from functions import world\n",
    "import os\n",
    "import datetime"
   ]
  },
  {
   "cell_type": "code",
   "execution_count": 13,
   "metadata": {},
   "outputs": [
    {
     "name": "stdout",
     "output_type": "stream",
     "text": [
      "Results ready in /home/marti/git/FishFinder/out/2019225_203933\n"
     ]
    },
    {
     "data": {
      "image/png": "[encoded data removed]",
      "text/plain": [
       "<Figure size 432x288 with 1 Axes>"
      ]
     },
     "metadata": {},
     "output_type": "display_data"
    }
   ],
   "source": [
    "grid_parameters = world.create_grid(conf[\"map\"][\"start_x\"], conf[\"map\"][\"start_y\"],\n",
    "                                    conf[\"map\"][\"end_x\"], conf[\"map\"][\"end_y\"], conf[\"map\"][\"displacement\"])\n",
    "paths, fish_list = world.create_path(conf[\"weights\"], grid_parameters[0])\n",
    "\n",
    "# create directory and save results\n",
    "\n",
    "# graph\n",
    "if not os.path.exists('out'):\n",
    "    os.mkdir('out')\n",
    "date = datetime.datetime.now()\n",
    "dirname = str(date.year) + str(date.month) + str(date.day) + '_' + \\\n",
    " str(date.hour) + str(date.minute) + str(date.second)\n",
    "path_results = os.path.join(os.getcwd(), 'out', dirname)\n",
    "\n",
    "\n",
    "world.show_grid(grid_parameters[1], conf[\"map\"][\"show_points\"], paths, path_results)\n",
    "\n",
    "# computations\n",
    "boat_features = [conf[\"boat_features\"][\"avg_speed\"], conf[\"boat_features\"][\"fuel_consumption\"], \\\n",
    "conf[\"boat_features\"][\"fuel_consumption_turning\"], conf[\"boat_features\"][\"time_consumption_turning\"]]\n",
    "world.compute_feedback_data(paths, fish_list, path_results, boat_features)\n",
    "\n",
    "print('Results ready in ' + path_results)"
   ]
  },
  {
   "cell_type": "code",
   "execution_count": null,
   "metadata": {},
   "outputs": [],
   "source": []
  }
 ],
 "metadata": {
  "kernelspec": {
   "display_name": "Python 3",
   "language": "python",
   "name": "python3"
  },
  "language_info": {
   "codemirror_mode": {
    "name": "ipython",
    "version": 3
   },
   "file_extension": ".py",
   "mimetype": "text/x-python",
   "name": "python",
   "nbconvert_exporter": "python",
   "pygments_lexer": "ipython3",
   "version": "3.5.2"
  }
 },
 "nbformat": 4,
 "nbformat_minor": 2
}
