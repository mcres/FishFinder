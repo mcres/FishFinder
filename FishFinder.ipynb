{
 "cells": [
  {
   "cell_type": "code",
   "execution_count": 1,
   "metadata": {},
   "outputs": [
    {
     "name": "stderr",
     "output_type": "stream",
     "text": [
      "Using TensorFlow backend.\n"
     ]
    }
   ],
   "source": [
    "from utils.generate_data import generate_data\n",
    "from utils import world\n",
    "from utils import neural_network_keras\n",
    "from sklearn.model_selection import train_test_split\n",
    "import pandas as pd\n",
    "import numpy as np\n",
    "import json"
   ]
  },
  {
   "cell_type": "markdown",
   "metadata": {},
   "source": [
    "# Generating test dataset"
   ]
  },
  {
   "cell_type": "code",
   "execution_count": 2,
   "metadata": {},
   "outputs": [],
   "source": [
    "with open('conf.json') as f:\n",
    "    conf = json.load(f)"
   ]
  },
  {
   "cell_type": "code",
   "execution_count": 3,
   "metadata": {},
   "outputs": [
    {
     "name": "stdout",
     "output_type": "stream",
     "text": [
      "Generating new data!\n"
     ]
    }
   ],
   "source": [
    "# Generates new data and saves it into csv file\n",
    "print(\"Generating new data!\")\n",
    "generate_data(conf[\"map\"][\"number_of_buoys\"], conf[\"map\"][\"data_per_buoy\"], \n",
    "              conf[\"map\"][\"world_width\"], conf[\"map\"][\"world_height\"])\n",
    "\n",
    "# Convert data in csv file into numpy arrays\n",
    "# Use pandas to handle csv file created\n",
    "df = pd.read_csv('data_buoys.csv')\n",
    "features = df.iloc[:, :10]\n",
    "labels = df.iloc[:, 10:]\n",
    "\n",
    "# Sets training and test data sets\n",
    "X_train, X_test, Y_train, Y_test = train_test_split(\n",
    "        features, labels, test_size=0.20) # returns numpy.ndarray\n",
    "\n",
    "# save variables for saving time next time they're needed\n",
    "np.savez('data_arrays', X_train, Y_train, X_test, Y_test)"
   ]
  },
  {
   "cell_type": "markdown",
   "metadata": {},
   "source": [
    "# Training model"
   ]
  },
  {
   "cell_type": "code",
   "execution_count": 4,
   "metadata": {},
   "outputs": [],
   "source": [
    "from utils import neural_network_keras"
   ]
  },
  {
   "cell_type": "code",
   "execution_count": 5,
   "metadata": {},
   "outputs": [
    {
     "name": "stdout",
     "output_type": "stream",
     "text": [
      "Loading arrays from file\n",
      "_________________________________________________________________\n",
      "Layer (type)                 Output Shape              Param #   \n",
      "=================================================================\n",
      "input_1 (InputLayer)         (None, 10)                0         \n",
      "_________________________________________________________________\n",
      "dense_1 (Dense)              (None, 20)                220       \n",
      "_________________________________________________________________\n",
      "activation_1 (Activation)    (None, 20)                0         \n",
      "_________________________________________________________________\n",
      "dense_2 (Dense)              (None, 15)                315       \n",
      "_________________________________________________________________\n",
      "activation_2 (Activation)    (None, 15)                0         \n",
      "_________________________________________________________________\n",
      "dense_3 (Dense)              (None, 6)                 96        \n",
      "_________________________________________________________________\n",
      "activation_3 (Activation)    (None, 6)                 0         \n",
      "_________________________________________________________________\n",
      "dense_4 (Dense)              (None, 3)                 21        \n",
      "_________________________________________________________________\n",
      "activation_4 (Activation)    (None, 3)                 0         \n",
      "_________________________________________________________________\n",
      "dense_5 (Dense)              (None, 1)                 4         \n",
      "_________________________________________________________________\n",
      "activation_5 (Activation)    (None, 1)                 0         \n",
      "=================================================================\n",
      "Total params: 656\n",
      "Trainable params: 656\n",
      "Non-trainable params: 0\n",
      "_________________________________________________________________\n",
      "[[   5   41   22    4   10 2010    9  227  141    2]\n",
      " [   4   38   11    1    0 2012   12  299   40    4]\n",
      " [   9   36   18   26    2 2019    8  153  252    1]\n",
      " [   1    5   17    9    8 2016   24  405  278    4]\n",
      " [   7   57    9   20    2 2014   35  105  362    2]\n",
      " [   4   54    0    9    3 2015    2  114    4    5]\n",
      " [   3   18    3   29   12 2013   12  278  439    9]\n",
      " [   7   36   18   26    2 2019   15   60  201    9]\n",
      " [   5   55   13   26   11 2011   40   69    4    3]\n",
      " [   3   36   18   26    2 2019   23  301   61    7]\n",
      " [  10   16   15   10    4 2016   10  483  230    9]\n",
      " [  10    5   22   10    1 2010   27  272  333    6]\n",
      " [   6   31   21    1    0 2016   12    2  223    9]\n",
      " [  10   25   11    8   11 2016   31  169   99    9]\n",
      " [   5   36   18   26    2 2019   35  469   78    7]\n",
      " [   2   58    4   18    5 2010   32  228  152    9]\n",
      " [   2   59   17   17   10 2010   36  328  373    1]\n",
      " [   3   31    4    1    4 2016   36   17  315    6]\n",
      " [   7    4   21   16    7 2015   17  422  155    1]\n",
      " [   5   53    9    2    3 2014    8  464    3    2]\n",
      " [   2   36   18   26    2 2019   16  486   90    8]\n",
      " [   9    9   20    7    4 2012   27  314  331    0]\n",
      " [   5   48    5   18   10 2016   10  188   30    2]\n",
      " [   3   36   12   17    4 2015   38  193  269   10]\n",
      " [   7   31   11   15    6 2012   20  325   25    1]\n",
      " [   2   49   13   17   11 2010   26   67  224    4]\n",
      " [   1   23   23    1    1 2012   19  346  482    6]\n",
      " [  10   21    0   13   11 2014   33  438  154    4]\n",
      " [   4   32   21   29   10 2012    7  337  279    5]\n",
      " [   6   30    4    9    3 2011   14  463  126    1]\n",
      " [   4   36   18   26    2 2019   33  468  220    5]\n",
      " [   9   49    6   11    4 2015    4  474   79    3]\n",
      " [   1   36   18   26    2 2019   30  155   86    7]\n",
      " [   8   21    1   16   11 2014   26  335   64    6]\n",
      " [   8   36   18   26    2 2019    1  411  420    7]\n",
      " [   2   26   10   14    1 2012   35  469  393    6]\n",
      " [   6   21   12   11    3 2010    5   28  329    7]\n",
      " [   9   21    2   27   12 2014    2  142  426   10]\n",
      " [   9   15    5   21    9 2012   37  347   69    3]\n",
      " [   3   20    9    7    6 2016    2  457  156    9]] [[0]\n",
      " [0]\n",
      " [1]\n",
      " [0]\n",
      " [1]\n",
      " [0]\n",
      " [0]\n",
      " [0]\n",
      " [0]\n",
      " [1]\n",
      " [1]\n",
      " [0]\n",
      " [1]\n",
      " [1]\n",
      " [1]\n",
      " [0]\n",
      " [1]\n",
      " [0]\n",
      " [1]\n",
      " [0]\n",
      " [1]\n",
      " [1]\n",
      " [0]\n",
      " [1]\n",
      " [1]\n",
      " [1]\n",
      " [1]\n",
      " [0]\n",
      " [0]\n",
      " [0]\n",
      " [0]\n",
      " [1]\n",
      " [0]\n",
      " [0]\n",
      " [0]\n",
      " [0]\n",
      " [1]\n",
      " [1]\n",
      " [0]\n",
      " [0]]\n",
      "Epoch 1/10\n",
      "40/40 [==============================] - 2s 42ms/step - loss: 0.2619 - acc: 0.5500\n",
      "Epoch 2/10\n",
      "40/40 [==============================] - 0s 587us/step - loss: 0.2544 - acc: 0.5000\n",
      "Epoch 3/10\n",
      "40/40 [==============================] - 0s 498us/step - loss: 0.2448 - acc: 0.5250\n",
      "Epoch 4/10\n",
      "40/40 [==============================] - 0s 354us/step - loss: 0.2368 - acc: 0.5000\n",
      "Epoch 5/10\n",
      "40/40 [==============================] - 0s 456us/step - loss: 0.2358 - acc: 0.5000\n",
      "Epoch 6/10\n",
      "40/40 [==============================] - 0s 434us/step - loss: 0.2407 - acc: 0.5250\n",
      "Epoch 7/10\n",
      "40/40 [==============================] - 0s 544us/step - loss: 0.2398 - acc: 0.5250\n",
      "Epoch 8/10\n",
      "40/40 [==============================] - 0s 356us/step - loss: 0.2348 - acc: 0.5250\n",
      "Epoch 9/10\n",
      "40/40 [==============================] - 0s 376us/step - loss: 0.2355 - acc: 0.5500\n",
      "Epoch 10/10\n",
      "40/40 [==============================] - 0s 594us/step - loss: 0.2349 - acc: 0.5500\n",
      "model trained!\n",
      "10/10 [==============================] - 0s 10ms/step\n",
      "Test accuracy =  0.40000000596\n",
      "Test loss =  0.250004649162\n",
      "model weights saved to /model_weights.h5py\n"
     ]
    },
    {
     "data": {
      "text/plain": [
       "<keras.engine.training.Model at 0x7f66d953bba8>"
      ]
     },
     "execution_count": 5,
     "metadata": {},
     "output_type": "execute_result"
    }
   ],
   "source": [
    "print (\"Loading arrays from file\")\n",
    "npzfile = np.load('data_arrays.npz')\n",
    "\n",
    "X_train, Y_train, X_test, Y_test = npzfile['arr_0'], npzfile['arr_1'], npzfile['arr_2'],npzfile['arr_3']\n",
    "\n",
    "# print('X_train.shape = ' + str(X_train.shape))\n",
    "# print('Y_train.shape = ' + str(Y_train.shape))\n",
    "# print('X_test.shape = ' + str(X_test.shape))\n",
    "# print('Y_test.shape = ' + str(Y_test.shape))\n",
    "#print(type(Y_test[0][0]))\n",
    "model = neural_network_keras.create_model_api()\n",
    "neural_network_keras.train_model(X_train, Y_train, X_test, Y_test, model)"
   ]
  },
  {
   "cell_type": "markdown",
   "metadata": {},
   "source": [
    "# Showing results"
   ]
  },
  {
   "cell_type": "code",
   "execution_count": 6,
   "metadata": {},
   "outputs": [],
   "source": [
    "from utils import world\n",
    "import os\n",
    "import datetime"
   ]
  },
  {
   "cell_type": "code",
   "execution_count": 7,
   "metadata": {},
   "outputs": [
    {
     "name": "stdout",
     "output_type": "stream",
     "text": [
      "Results ready in /home/marti/git/FishFinder/out/2019226_183659\n"
     ]
    },
    {
     "data": {
      "image/png": "[encoded data removed]",
      "text/plain": [
       "<Figure size 432x288 with 1 Axes>"
      ]
     },
     "metadata": {},
     "output_type": "display_data"
    }
   ],
   "source": [
    "grid_parameters = world.create_grid(conf[\"map\"][\"start_x\"], conf[\"map\"][\"start_y\"],\n",
    "                                    conf[\"map\"][\"end_x\"], conf[\"map\"][\"end_y\"], conf[\"map\"][\"displacement\"])\n",
    "paths, fish_list = world.create_path(conf[\"weights\"], grid_parameters[0])\n",
    "\n",
    "# create directory and save results\n",
    "\n",
    "# graph\n",
    "if not os.path.exists('out'):\n",
    "    os.mkdir('out')\n",
    "date = datetime.datetime.now()\n",
    "dirname = str(date.year) + str(date.month) + str(date.day) + '_' + \\\n",
    " str(date.hour) + str(date.minute) + str(date.second)\n",
    "path_results = os.path.join(os.getcwd(), 'out', dirname)\n",
    "\n",
    "\n",
    "world.show_grid(grid_parameters[1], conf[\"map\"][\"show_points\"], paths, path_results)\n",
    "\n",
    "# computations\n",
    "boat_features = [conf[\"boat_features\"][\"avg_speed\"], conf[\"boat_features\"][\"fuel_consumption\"], \\\n",
    "conf[\"boat_features\"][\"fuel_consumption_turning\"], conf[\"boat_features\"][\"time_consumption_turning\"]]\n",
    "world.compute_feedback_data(paths, fish_list, path_results, boat_features)\n",
    "\n",
    "print('Results ready in ' + path_results)"
   ]
  },
  {
   "cell_type": "code",
   "execution_count": null,
   "metadata": {},
   "outputs": [],
   "source": []
  }
 ],
 "metadata": {
  "kernelspec": {
   "display_name": "Python 3",
   "language": "python",
   "name": "python3"
  },
  "language_info": {
   "codemirror_mode": {
    "name": "ipython",
    "version": 3
   },
   "file_extension": ".py",
   "mimetype": "text/x-python",
   "name": "python",
   "nbconvert_exporter": "python",
   "pygments_lexer": "ipython3",
   "version": "3.5.2"
  }
 },
 "nbformat": 4,
 "nbformat_minor": 2
}
