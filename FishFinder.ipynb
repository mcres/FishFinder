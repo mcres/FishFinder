{
 "cells": [
  {
   "cell_type": "code",
   "execution_count": 1,
   "metadata": {},
   "outputs": [],
   "source": [
    "import json\n",
    "from functions.generate_data import generate_data\n",
    "from functions import read_csv\n",
    "import numpy as np"
   ]
  },
  {
   "cell_type": "markdown",
   "metadata": {},
   "source": [
    "# Generating test dataset"
   ]
  },
  {
   "cell_type": "code",
   "execution_count": 2,
   "metadata": {},
   "outputs": [],
   "source": [
    "with open('conf.json') as f:\n",
    "    conf = json.load(f)"
   ]
  },
  {
   "cell_type": "code",
   "execution_count": 3,
   "metadata": {},
   "outputs": [
    {
     "name": "stdout",
     "output_type": "stream",
     "text": [
      "Generating new data!\n",
      "Converting data from file to list\n"
     ]
    }
   ],
   "source": [
    "# Generates new data and saves it into csv file\n",
    "print(\"Generating new data!\")\n",
    "generate_data(conf[\"map\"][\"number_of_buoys\"], conf[\"map\"][\"data_per_buoy\"], \n",
    "              conf[\"map\"][\"world_width\"], conf[\"map\"][\"world_height\"])\n",
    "\n",
    "# Convert data in csv file into numpy arrays\n",
    "csv_list = read_csv.convert_csv(\"data_buoys.csv\")\n",
    "\n",
    "# Sets training and test data sets\n",
    "# 80% - 20% distribution\n",
    "test_length = int(0.2*len(csv_list))\n",
    "train_length =len(csv_list) - test_length\n",
    "\n",
    "print (\"Converting data from file to list\")\n",
    "# actually takes a lot of time\n",
    "# 3 minutes aprox for 100000 data entries\n",
    "X_train = csv_list[:(train_length),:(csv_list.shape[1] - 1)]\n",
    "Y_train = csv_list[:(train_length),(csv_list.shape[1] - 1)]\n",
    "Y_train = Y_train.reshape((train_length, 1))\n",
    "X_test = csv_list[train_length:(csv_list.shape[0]),:(csv_list.shape[1] - 1)]\n",
    "Y_test = csv_list[train_length:(csv_list.shape[0]),(csv_list.shape[1] - 1)]\n",
    "Y_test = Y_test.reshape((test_length, 1))\n",
    "\n",
    "# save variables for saving time next time they're needed\n",
    "np.savez('data_arrays', X_train, Y_train, X_test, Y_test)"
   ]
  },
  {
   "cell_type": "markdown",
   "metadata": {},
   "source": [
    "# Training model"
   ]
  },
  {
   "cell_type": "code",
   "execution_count": 6,
   "metadata": {},
   "outputs": [
    {
     "name": "stderr",
     "output_type": "stream",
     "text": [
      "Using TensorFlow backend.\n"
     ]
    }
   ],
   "source": [
    "from functions import neural_network_keras"
   ]
  },
  {
   "cell_type": "code",
   "execution_count": 7,
   "metadata": {},
   "outputs": [
    {
     "name": "stdout",
     "output_type": "stream",
     "text": [
      "Loading arrays from file\n",
      "_________________________________________________________________\n",
      "Layer (type)                 Output Shape              Param #   \n",
      "=================================================================\n",
      "input_1 (InputLayer)         (None, 10)                0         \n",
      "_________________________________________________________________\n",
      "dense_1 (Dense)              (None, 20)                220       \n",
      "_________________________________________________________________\n",
      "activation_1 (Activation)    (None, 20)                0         \n",
      "_________________________________________________________________\n",
      "dense_2 (Dense)              (None, 15)                315       \n",
      "_________________________________________________________________\n",
      "activation_2 (Activation)    (None, 15)                0         \n",
      "_________________________________________________________________\n",
      "dense_3 (Dense)              (None, 6)                 96        \n",
      "_________________________________________________________________\n",
      "activation_3 (Activation)    (None, 6)                 0         \n",
      "_________________________________________________________________\n",
      "dense_4 (Dense)              (None, 3)                 21        \n",
      "_________________________________________________________________\n",
      "activation_4 (Activation)    (None, 3)                 0         \n",
      "_________________________________________________________________\n",
      "dense_5 (Dense)              (None, 1)                 4         \n",
      "_________________________________________________________________\n",
      "activation_5 (Activation)    (None, 1)                 0         \n",
      "=================================================================\n",
      "Total params: 656\n",
      "Trainable params: 656\n",
      "Non-trainable params: 0\n",
      "_________________________________________________________________\n",
      "[[1.000e+00 2.800e+01 1.600e+01 0.000e+00 2.000e+00 2.010e+03 2.400e+01\n",
      "  3.870e+02 2.670e+02 9.000e+00]\n",
      " [1.000e+00 2.700e+01 1.000e+01 1.700e+01 3.000e+00 2.014e+03 1.700e+01\n",
      "  1.720e+02 2.000e+01 1.000e+00]\n",
      " [1.000e+00 4.000e+01 7.000e+00 2.400e+01 2.000e+00 2.011e+03 7.000e+00\n",
      "  4.030e+02 1.980e+02 7.000e+00]\n",
      " [1.000e+00 2.200e+01 1.900e+01 1.000e+00 1.200e+01 2.015e+03 1.000e+00\n",
      "  1.420e+02 4.570e+02 5.000e+00]\n",
      " [2.000e+00 4.900e+01 2.000e+00 1.900e+01 2.000e+00 2.010e+03 5.000e+00\n",
      "  2.210e+02 4.420e+02 5.000e+00]\n",
      " [2.000e+00 1.700e+01 8.000e+00 2.900e+01 9.000e+00 2.011e+03 7.000e+00\n",
      "  3.660e+02 3.500e+02 2.000e+00]\n",
      " [2.000e+00 2.000e+01 3.000e+00 1.500e+01 3.000e+00 2.016e+03 1.200e+01\n",
      "  3.490e+02 6.500e+01 8.000e+00]\n",
      " [2.000e+00 5.800e+01 9.000e+00 3.000e+00 8.000e+00 2.017e+03 3.200e+01\n",
      "  4.900e+02 3.060e+02 5.000e+00]\n",
      " [3.000e+00 1.200e+01 5.000e+00 2.800e+01 4.000e+00 2.012e+03 3.600e+01\n",
      "  4.800e+01 1.870e+02 8.000e+00]\n",
      " [3.000e+00 4.500e+01 1.800e+01 2.700e+01 1.100e+01 2.014e+03 2.300e+01\n",
      "  6.400e+01 4.810e+02 7.000e+00]\n",
      " [3.000e+00 3.000e+01 1.700e+01 9.000e+00 5.000e+00 2.016e+03 3.200e+01\n",
      "  2.050e+02 4.040e+02 4.000e+00]\n",
      " [3.000e+00 1.500e+01 1.600e+01 2.000e+00 1.000e+01 2.014e+03 4.000e+00\n",
      "  1.660e+02 2.460e+02 2.000e+00]\n",
      " [4.000e+00 1.500e+01 9.000e+00 4.000e+00 9.000e+00 2.017e+03 3.100e+01\n",
      "  3.050e+02 3.230e+02 9.000e+00]\n",
      " [4.000e+00 3.500e+01 2.400e+01 1.300e+01 1.200e+01 2.011e+03 4.000e+01\n",
      "  4.340e+02 5.600e+01 4.000e+00]\n",
      " [4.000e+00 0.000e+00 7.000e+00 1.200e+01 6.000e+00 2.012e+03 3.400e+01\n",
      "  3.710e+02 4.500e+02 1.000e+00]\n",
      " [4.000e+00 5.200e+01 5.000e+00 1.500e+01 7.000e+00 2.016e+03 4.000e+00\n",
      "  1.930e+02 3.740e+02 8.000e+00]\n",
      " [5.000e+00 1.000e+01 1.700e+01 9.000e+00 3.000e+00 2.011e+03 2.600e+01\n",
      "  1.600e+01 1.940e+02 6.000e+00]\n",
      " [5.000e+00 5.300e+01 7.000e+00 1.900e+01 7.000e+00 2.010e+03 6.000e+00\n",
      "  4.760e+02 4.400e+01 2.000e+00]\n",
      " [5.000e+00 3.800e+01 8.000e+00 2.300e+01 9.000e+00 2.014e+03 2.600e+01\n",
      "  4.990e+02 3.390e+02 7.000e+00]\n",
      " [5.000e+00 1.400e+01 1.600e+01 1.400e+01 4.000e+00 2.012e+03 3.200e+01\n",
      "  4.900e+01 2.860e+02 7.000e+00]\n",
      " [6.000e+00 1.200e+01 1.900e+01 2.600e+01 7.000e+00 2.013e+03 2.800e+01\n",
      "  1.400e+02 2.640e+02 2.000e+00]\n",
      " [6.000e+00 5.200e+01 2.300e+01 4.000e+00 1.000e+01 2.014e+03 1.200e+01\n",
      "  3.140e+02 2.300e+01 4.000e+00]\n",
      " [6.000e+00 3.900e+01 2.000e+01 3.000e+01 8.000e+00 2.014e+03 5.000e+00\n",
      "  1.340e+02 1.300e+01 1.000e+00]\n",
      " [6.000e+00 5.600e+01 8.000e+00 4.000e+00 5.000e+00 2.013e+03 2.000e+01\n",
      "  7.600e+01 2.000e+01 7.000e+00]\n",
      " [7.000e+00 4.000e+00 6.000e+00 3.000e+00 1.000e+00 2.014e+03 8.000e+00\n",
      "  4.620e+02 4.200e+02 2.000e+00]\n",
      " [7.000e+00 2.100e+01 1.400e+01 1.000e+00 0.000e+00 2.011e+03 2.800e+01\n",
      "  1.380e+02 9.100e+01 7.000e+00]\n",
      " [7.000e+00 5.100e+01 1.300e+01 2.400e+01 8.000e+00 2.013e+03 2.900e+01\n",
      "  1.500e+02 3.200e+02 6.000e+00]\n",
      " [7.000e+00 4.500e+01 9.000e+00 2.400e+01 1.000e+01 2.011e+03 2.200e+01\n",
      "  2.330e+02 1.670e+02 9.000e+00]\n",
      " [8.000e+00 4.500e+01 1.100e+01 3.000e+00 1.000e+01 2.014e+03 1.600e+01\n",
      "  3.200e+01 5.900e+01 1.000e+00]\n",
      " [8.000e+00 4.400e+01 1.200e+01 1.100e+01 3.000e+00 2.016e+03 6.000e+00\n",
      "  1.290e+02 4.470e+02 0.000e+00]\n",
      " [8.000e+00 5.500e+01 2.200e+01 2.900e+01 1.100e+01 2.010e+03 3.300e+01\n",
      "  1.700e+01 2.520e+02 4.000e+00]\n",
      " [8.000e+00 1.200e+01 1.800e+01 2.000e+00 8.000e+00 2.014e+03 1.000e+01\n",
      "  6.200e+01 3.530e+02 1.000e+01]\n",
      " [9.000e+00 4.000e+00 9.000e+00 1.800e+01 7.000e+00 2.011e+03 8.000e+00\n",
      "  9.300e+01 1.180e+02 5.000e+00]\n",
      " [9.000e+00 1.800e+01 1.000e+00 4.000e+00 1.000e+00 2.016e+03 2.500e+01\n",
      "  1.000e+02 2.110e+02 2.000e+00]\n",
      " [9.000e+00 3.700e+01 5.000e+00 2.900e+01 1.000e+01 2.015e+03 3.800e+01\n",
      "  2.800e+01 3.850e+02 8.000e+00]\n",
      " [9.000e+00 5.000e+01 1.000e+01 2.400e+01 5.000e+00 2.014e+03 8.000e+00\n",
      "  5.600e+01 1.600e+02 1.000e+00]\n",
      " [1.000e+01 3.000e+01 2.200e+01 2.000e+00 1.200e+01 2.015e+03 3.000e+00\n",
      "  3.370e+02 4.160e+02 1.000e+01]\n",
      " [1.000e+01 3.000e+01 1.100e+01 2.300e+01 9.000e+00 2.014e+03 1.800e+01\n",
      "  3.700e+01 3.700e+02 9.000e+00]\n",
      " [1.000e+01 4.700e+01 1.300e+01 2.500e+01 8.000e+00 2.014e+03 9.000e+00\n",
      "  1.730e+02 1.050e+02 1.000e+00]\n",
      " [1.000e+01 5.000e+00 2.000e+00 6.000e+00 3.000e+00 2.016e+03 1.000e+01\n",
      "  2.520e+02 2.280e+02 9.000e+00]] [[0.]\n",
      " [0.]\n",
      " [0.]\n",
      " [0.]\n",
      " [1.]\n",
      " [0.]\n",
      " [0.]\n",
      " [1.]\n",
      " [1.]\n",
      " [0.]\n",
      " [0.]\n",
      " [0.]\n",
      " [1.]\n",
      " [1.]\n",
      " [0.]\n",
      " [1.]\n",
      " [0.]\n",
      " [1.]\n",
      " [0.]\n",
      " [0.]\n",
      " [1.]\n",
      " [1.]\n",
      " [0.]\n",
      " [1.]\n",
      " [0.]\n",
      " [1.]\n",
      " [0.]\n",
      " [1.]\n",
      " [0.]\n",
      " [0.]\n",
      " [1.]\n",
      " [1.]\n",
      " [1.]\n",
      " [0.]\n",
      " [1.]\n",
      " [1.]\n",
      " [1.]\n",
      " [0.]\n",
      " [1.]\n",
      " [1.]]\n",
      "Epoch 1/10\n",
      "40/40 [==============================] - 0s 6ms/step - loss: 0.5000 - acc: 0.5000\n",
      "Epoch 2/10\n",
      "40/40 [==============================] - 0s 212us/step - loss: 0.5000 - acc: 0.5000\n",
      "Epoch 3/10\n",
      "40/40 [==============================] - 0s 481us/step - loss: 0.5000 - acc: 0.5000\n",
      "Epoch 4/10\n",
      "40/40 [==============================] - 0s 218us/step - loss: 0.5000 - acc: 0.5000\n",
      "Epoch 5/10\n",
      "40/40 [==============================] - 0s 208us/step - loss: 0.5000 - acc: 0.5000\n",
      "Epoch 6/10\n",
      "40/40 [==============================] - 0s 346us/step - loss: 0.5000 - acc: 0.5000\n",
      "Epoch 7/10\n",
      "40/40 [==============================] - 0s 158us/step - loss: 0.5000 - acc: 0.5000\n",
      "Epoch 8/10\n",
      "40/40 [==============================] - 0s 162us/step - loss: 0.5000 - acc: 0.5000\n",
      "Epoch 9/10\n",
      "40/40 [==============================] - 0s 321us/step - loss: 0.5000 - acc: 0.5000\n",
      "Epoch 10/10\n",
      "40/40 [==============================] - 0s 177us/step - loss: 0.5000 - acc: 0.5000\n",
      "model trained!\n",
      "10/10 [==============================] - 0s 5ms/step\n",
      "Test accuracy =  0.5\n",
      "Test loss =  0.5\n",
      "model weights saved to /model_weights.h5py\n"
     ]
    },
    {
     "data": {
      "text/plain": [
       "<keras.engine.training.Model at 0x7f7d1f733ba8>"
      ]
     },
     "execution_count": 7,
     "metadata": {},
     "output_type": "execute_result"
    }
   ],
   "source": [
    "print (\"Loading arrays from file\")\n",
    "npzfile = np.load('data_arrays.npz')\n",
    "\n",
    "X_train, Y_train, X_test, Y_test = npzfile['arr_0'], npzfile['arr_1'], npzfile['arr_2'],npzfile['arr_3']\n",
    "\n",
    "# print('X_train.shape = ' + str(X_train.shape))\n",
    "# print('Y_train.shape = ' + str(Y_train.shape))\n",
    "# print('X_test.shape = ' + str(X_test.shape))\n",
    "# print('Y_test.shape = ' + str(Y_test.shape))\n",
    "#print(type(Y_test[0][0]))\n",
    "model = neural_network_keras.create_model_api()\n",
    "neural_network_keras.train_model(X_train, Y_train, X_test, Y_test, model)"
   ]
  },
  {
   "cell_type": "markdown",
   "metadata": {},
   "source": [
    "# Showing results"
   ]
  },
  {
   "cell_type": "code",
   "execution_count": 16,
   "metadata": {},
   "outputs": [],
   "source": [
    "from functions import world\n",
    "import os\n",
    "import datetime"
   ]
  },
  {
   "cell_type": "code",
   "execution_count": 19,
   "metadata": {},
   "outputs": [
    {
     "name": "stdout",
     "output_type": "stream",
     "text": [
      "Results ready in /home/xabi/Descargas/FishFinder/out/20181119_183227\n"
     ]
    },
    {
     "data": {
      "image/png": "[encoded data removed]",
      "text/plain": [
       "<Figure size 432x288 with 1 Axes>"
      ]
     },
     "metadata": {},
     "output_type": "display_data"
    }
   ],
   "source": [
    "grid_parameters = world.create_grid(conf[\"map\"][\"start_x\"], conf[\"map\"][\"start_y\"],\n",
    "                                    conf[\"map\"][\"end_x\"], conf[\"map\"][\"end_y\"], conf[\"map\"][\"displacement\"])\n",
    "paths, fish_list = world.create_path(conf[\"weights\"], grid_parameters[0])\n",
    "\n",
    "# create directory and save results\n",
    "\n",
    "# graph\n",
    "if not os.path.exists('out'):\n",
    "    os.mkdir('out')\n",
    "date = datetime.datetime.now()\n",
    "dirname = str(date.year) + str(date.month) + str(date.day) + '_' + \\\n",
    " str(date.hour) + str(date.minute) + str(date.second)\n",
    "path_results = os.path.join(os.getcwd(), 'out', dirname)\n",
    "\n",
    "\n",
    "world.show_grid(grid_parameters[1], conf[\"map\"][\"show_points\"], paths, path_results)\n",
    "\n",
    "# computations\n",
    "boat_features = [conf[\"boat_features\"][\"avg_speed\"], conf[\"boat_features\"][\"fuel_consumption\"], \\\n",
    "conf[\"boat_features\"][\"fuel_consumption_turning\"], conf[\"boat_features\"][\"time_consumption_turning\"]]\n",
    "world.compute_feedback_data(paths, fish_list, path_results, boat_features)\n",
    "\n",
    "print('Results ready in ' + path_results)"
   ]
  }
 ],
 "metadata": {
  "kernelspec": {
   "display_name": "Python 3",
   "language": "python",
   "name": "python3"
  },
  "language_info": {
   "codemirror_mode": {
    "name": "ipython",
    "version": 3
   },
   "file_extension": ".py",
   "mimetype": "text/x-python",
   "name": "python",
   "nbconvert_exporter": "python",
   "pygments_lexer": "ipython3",
   "version": "3.6.5"
  }
 },
 "nbformat": 4,
 "nbformat_minor": 2
}
